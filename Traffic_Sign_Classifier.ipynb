{
 "cells": [
  {
   "cell_type": "markdown",
   "metadata": {},
   "source": [
    "# Deep Learning: Traffic Sign Recognition Classifier\n",
    "\n",
    "This notebook contains the core functionality, which is required to successfully recognize traffic signs from the [German Traffic Sign Dataset](http://benchmark.ini.rub.de/?section=gtsrb&subsection=dataset) provided by the Institue for Neuroinformatics of the Ruhr-Universität Bochum."
   ]
  },
  {
   "cell_type": "markdown",
   "metadata": {},
   "source": [
    "### Importing libraries"
   ]
  },
  {
   "cell_type": "code",
   "execution_count": 1,
   "metadata": {},
   "outputs": [],
   "source": [
    "import pickle\n",
    "import tensorflow as tf\n",
    "import numpy as np\n",
    "import matplotlib.pyplot as plt\n",
    "import matplotlib.image as mpimg\n",
    "import random\n",
    "from sklearn.utils import shuffle # for shuffling the training data\n",
    "import cv2 # for grayscaling\n",
    "from skimage.color import rgb2gray\n",
    "from skimage import io # read in images from the web\n",
    "from pandas.io.parsers import read_csv\n",
    "import math\n",
    "import scipy.ndimage\n",
    "import pandas as pd"
   ]
  },
  {
   "cell_type": "markdown",
   "metadata": {},
   "source": [
    "## Step 0: Load The Data"
   ]
  },
  {
   "cell_type": "code",
   "execution_count": 2,
   "metadata": {},
   "outputs": [
    {
     "name": "stdout",
     "output_type": "stream",
     "text": [
      "Loading data ...\n",
      "Data successfully loaded.\n"
     ]
    }
   ],
   "source": [
    "# load the pickled data based on the location of training, validation and testing data\n",
    "\n",
    "print('Loading data ...')\n",
    "\n",
    "training_file = 'data_set/train.p'\n",
    "validation_file = 'data_set/valid.p'\n",
    "testing_file = 'data_set/test.p'\n",
    "\n",
    "# It is good practice to use the \"with\" keyword when dealing with file objects.\n",
    "# The advantage is that the file is properly closed after its suite finishes, even if an exception is raised at some point.\n",
    "\n",
    "with open(training_file, mode='rb') as f: # rb -> r(ead only) and b opens the file in binary mode.\n",
    "    train = pickle.load(f) # train is a dictionary\n",
    "with open(validation_file, mode='rb') as f:\n",
    "    valid = pickle.load(f)\n",
    "with open(testing_file, mode='rb') as f:\n",
    "    test = pickle.load(f)\n",
    "    \n",
    "# NumPy arrays\n",
    "X_train, y_train = train['features'], train['labels'] # 'features' and 'labels' are keys from the dictionary train\n",
    "# labels (und somit y_train) enthält die GroundTruth-Daten (= die korrekten labels): [41, 41, 41, ... 25, 25, 25]\n",
    "# mit Länge = Anzahl der Bilder im training set \n",
    "X_valid, y_valid = valid['features'], valid['labels']\n",
    "X_test, y_test = test['features'], test['labels']\n",
    "\n",
    "print('Data successfully loaded.')"
   ]
  },
  {
   "cell_type": "markdown",
   "metadata": {},
   "source": [
    "---\n",
    "\n",
    "## Step 1: Dataset Summary & Visualization\n",
    "\n",
    "The pickled data is a dictionary with 4 key/value pairs:\n",
    "\n",
    "- `'features'` is a 4D array containing raw pixel data of the traffic sign images, (num examples, width, height, channels).\n",
    "- `'labels'` is a 1D array containing the label/class id of the traffic sign. The file `signnames.csv` contains id -> name mappings for each id.\n",
    "- `'sizes'` is a list containing tuples, (width, height) representing the original width and height of the image.\n",
    "- `'coords'` is a list containing tuples, (x1, y1, x2, y2) representing coordinates of a bounding box around the sign in the image. **THESE COORDINATES TAKE ON THE ORIGINAL IMAGE. THE PICKLED DATA CONTAINS RESIZED VERSIONS (32 by 32) OF THESE IMAGES**"
   ]
  },
  {
   "cell_type": "markdown",
   "metadata": {},
   "source": [
    "### Summary of the original dataset"
   ]
  },
  {
   "cell_type": "code",
   "execution_count": 3,
   "metadata": {},
   "outputs": [
    {
     "name": "stdout",
     "output_type": "stream",
     "text": [
      "Number of training samples = 34799\n",
      "Length of ground truth labels = 34799\n",
      "Number of validation samples = 4410\n",
      "Number of testing samples = 12630\n",
      "Original Shape of the last image in the training set (width x height):  230 x 201\n",
      "Shape of the first image in the training set: (32, 32, 3)\n",
      "Number of classes = 43\n"
     ]
    }
   ],
   "source": [
    "# Number of training examples\n",
    "n_train = len(X_train)\n",
    "print(\"Number of training samples =\", n_train)\n",
    "\n",
    "# length of ground truth labels\n",
    "n_train_y = len(y_train)\n",
    "print(\"Length of ground truth labels =\", n_train_y)\n",
    "\n",
    "# Number of validation examples\n",
    "n_validation = len(X_valid)\n",
    "print(\"Number of validation samples =\", n_validation)\n",
    "\n",
    "# Number of testing examples.\n",
    "n_test = len(X_test)\n",
    "print(\"Number of testing samples =\", n_test)\n",
    "\n",
    "# Original Shape of one traffic sign image (here: taking the last image in the training set)\n",
    "image_shape_width = train['sizes'][-1][0]\n",
    "image_shape_height = train['sizes'][-1][1]\n",
    "print(\"Original Shape of the last image in the training set (width x height): \", image_shape_width, \"x\", image_shape_height)\n",
    "\n",
    "# Shape of one traffic sign ((here: taking the first image in the training set))\n",
    "image_shape = X_train[0].shape\n",
    "print(\"Shape of the first image in the training set: {}\".format(image_shape)) # print out the shape of one image to know what the dimensions of the data are\n",
    "\n",
    "# Number of unique classes/labels in the training set\n",
    "n_classes = len(set(train['labels'])) # first make a set out of the dict \"train\" to remove duplicates, then count the elements in that set\n",
    "print(\"Number of classes =\", n_classes)"
   ]
  },
  {
   "cell_type": "markdown",
   "metadata": {},
   "source": [
    "###  Visualization of the original dataset\n",
    "\n",
    "Visualizing the German Traffic Signs Dataset using the pickled file(s).\n",
    "\n",
    "It can be interesting to look at the distribution of classes in the training, validation and test set. Is the distribution the same? Are there more examples of some classes than others?\n",
    "\n",
    "Let's take a look on the training dataset. We will check each class (type of traffic sign), counting its number of samples and plotting 10 random images. (Notice: Thank you to navoshta for providing this code. Source: https://github.com/navoshta/traffic-signs)"
   ]
  },
  {
   "cell_type": "code",
   "execution_count": null,
   "metadata": {},
   "outputs": [],
   "source": [
    "%matplotlib inline\n",
    "signnames = read_csv(\"signnames.csv\").values[:, 1] # the second column of csv contains the signnames\n",
    "\n",
    "sign_classes, class_indices, class_counts = np.unique(y_train, return_index = True, return_counts = True)\n",
    "\n",
    "col_width = max(len(name) for name in signnames)\n",
    "\n",
    "# display the distribution of classes in the training set\n",
    "plt.bar(np.arange(43), class_counts, align='center')\n",
    "plt.xlabel('Class')\n",
    "plt.ylabel('Number of training examples')\n",
    "plt.xlim([-1, 43])\n",
    "plt.show()\n",
    "\n",
    "# for each class count its number of samples and plot 10 random images\n",
    "for c, c_index, c_count in zip(sign_classes, class_indices, class_counts):\n",
    "    print(\"Class %i: %-*s  %s samples\" % (c, col_width, signnames[c], str(c_count)))\n",
    "    fig = plt.figure(figsize = (6, 1))\n",
    "    fig.subplots_adjust(left = 0, right = 1, bottom = 0, top = 1, hspace = 0.05, wspace = 0.05)\n",
    "    random_indices = random.sample(range(c_index, c_index + c_count), 10)\n",
    "    for i in range(10):\n",
    "        axis = fig.add_subplot(1, 10, i + 1, xticks=[], yticks=[])\n",
    "        axis.imshow(X_train[random_indices[i]])\n",
    "    plt.show()\n",
    "    print(\"--------------------------------------------------------------------------------------\\n\")"
   ]
  },
  {
   "cell_type": "markdown",
   "metadata": {},
   "source": [
    "Some classes are highly **underrepresented**. Some have only have 200 samples or even less, which is not enough for most of the models to perform well. It is also fairly unbalanced which means some classes are represented to significantly lower extent than others. This could be fixed with **Data augmentation**."
   ]
  },
  {
   "cell_type": "markdown",
   "metadata": {},
   "source": [
    "### Data augmentation\n",
    "\n",
    "Augmenting the training set helps improving the model. It makes the model more robust to slight variations, and hence prevents the model from overfitting.\n",
    "Augmenting techniques are \"cheap tricks\" because no additional data needs to be collected and only a small mount on additional computing resources are needed but performance can significantly be improved.\n",
    "\n",
    "#### Flipping\n",
    "\n",
    "Signs like \"Ahead Only\" are horizontally and/or vertically symmetrical. These can be simply flipped, which would allow us to get twice as much data for these classes.\n",
    "\n",
    "Other signs like \"Turn right ahead\" and \"Turn left ahead\" are some kind of interchageable pairs. These can in a first step be flipped and then be assigned to the corresponding, pairing class. In this case the number of samples could be increased by a factor of around 4.\n",
    "\n",
    "#### Translation, scaling (zoom) and rotation\n",
    "\n",
    "CNNs have built-in invariance to small translations, scaling and rotations. The training doesn't contain such mutations, so we will add those. In this project we implement rotation."
   ]
  },
  {
   "cell_type": "code",
   "execution_count": null,
   "metadata": {},
   "outputs": [],
   "source": [
    "## Data augmentation technique: Rotation\n",
    "degrees = 10\n",
    "\n",
    "# Rotating images\n",
    "degrees_positive = 10\n",
    "X_train_rotated_positive = []\n",
    "for i in range(len(X_train)):\n",
    "    rotated_image = scipy.ndimage.rotate(X_train[i], degrees_positive)\n",
    "    X_train_rotated_positive.append(rotated_image)\n",
    "    \n",
    "degrees_negative = 350\n",
    "X_train_rotated_negative = []\n",
    "for i in range(len(X_train)):\n",
    "    rotated_image = scipy.ndimage.rotate(X_train[i], degrees_negative)\n",
    "    X_train_rotated_negative.append(rotated_image)    \n",
    "\n",
    "# Crop image, due to other image size after rotation. Attention: it's not automated! It fit's currently to the 10° rotation.\n",
    "for i in range(len(X_train_rotated_positive)):\n",
    "    X_train_rotated_positive[i] = X_train_rotated_positive[i][2:34,2:34]   # box=(y:y+crop, x:x+crop)\n",
    "\n",
    "for i in range(len(X_train_rotated_negative)):\n",
    "    X_train_rotated_negative[i] = X_train_rotated_negative[i][2:34,2:34]   # box=(y:y+crop, x:x+crop)\n",
    "    \n",
    "# appending rotated images to training set\n",
    "\n",
    "# Convert the data into list type to use the method \"append\"\n",
    "X_train = list(X_train)\n",
    "\n",
    "# combine the Lists\n",
    "for i in range(len(X_train_rotated_positive)):\n",
    "    X_train.append(X_train_rotated_positive[i])\n",
    "    X_train.append(X_train_rotated_negative[i])\n",
    "    \n",
    "#Convert the data back to a np.array\n",
    "X_train = np.array(X_train)\n",
    "\n",
    "# New number of training examples (after data augmentation)\n",
    "new_n_train = len(X_train)\n",
    "print(\"New number of training samples after data augmentation =\", new_n_train)\n",
    "\n",
    "\n",
    "# do the same for the labels y_train\n",
    "# Convert the data into list type to use the method \"append\"\n",
    "y_train = list(y_train)\n",
    "\n",
    "# lengthen the list\n",
    "for i in range(len(y_train)):\n",
    "    y_train.append(y_train[i])\n",
    "    y_train.append(y_train[i])\n",
    "    \n",
    "#Convert the data back to a np.array\n",
    "y_train = np.array(y_train)\n",
    "\n",
    "# New length of ground truth labels\n",
    "new_n_train_y = len(y_train)\n",
    "print(\"New length of ground truth labels =\", new_n_train_y)"
   ]
  },
  {
   "cell_type": "code",
   "execution_count": null,
   "metadata": {},
   "outputs": [],
   "source": [
    "# Display an example for rotation\n",
    "\n",
    "fig, (ax1, ax2, ax3) = plt.subplots(1,3)\n",
    "ax1.imshow(X_train[3000])\n",
    "ax1.set_title('Original')    \n",
    "ax1.axis('ON')  # clear x- and y-axes\n",
    "ax2.imshow(X_train_rotated_positive[3000])\n",
    "ax2.set_title('Rotated +10°')    \n",
    "ax2.axis('ON')  # clear x- and y-axes\n",
    "ax3.imshow(X_train_rotated_negative[3000])\n",
    "ax3.set_title('Rotated -10°')   \n",
    "ax3.axis('ON')  # clear x- and y-axes\n",
    "plt.savefig('./examples/Figure_original_rotated.jpg', dpi=300)\n",
    "plt.show()"
   ]
  },
  {
   "cell_type": "markdown",
   "metadata": {},
   "source": [
    "### Data preprocessing\n",
    "\n",
    "#### Normalizing\n",
    "Normalizing helps the network to converge faster. It makes it a lot easier for the optimizer to proceed numerically.\n",
    "It is required to normalize the image data so that the data has mean zero and equal variance. For image data, `(pixel - 128)/ 128` is a quick way to approximately normalize the data. It doesn't change the content of the images.\n",
    "\n",
    "#### Single-channel images (e.g. grayscale)\n",
    "I will only use a single channel in my model, e.g. grayscale images instead of color ones. As Pierre Sermanet and Yann LeCun mentioned in [their paper](http://yann.lecun.com/exdb/publis/pdf/sermanet-ijcnn-11.pdf), using color channels didn't seem to improve things a lot."
   ]
  },
  {
   "cell_type": "code",
   "execution_count": null,
   "metadata": {},
   "outputs": [],
   "source": [
    "# Normalize the image data\n",
    "for i in range(len(X_train)):\n",
    "    X_train[i] = cv2.normalize(X_train[i],None,0,128,cv2.NORM_MINMAX)\n",
    "    \n",
    "for i in range(len(X_valid)):\n",
    "    X_valid[i] = cv2.normalize(X_valid[i],None,0,128,cv2.NORM_MINMAX)\n",
    "    \n",
    "for i in range(len(X_test)):\n",
    "    X_test[i] = cv2.normalize(X_test[i],None,0,128,cv2.NORM_MINMAX)\n",
    "\n",
    "# Alternatively\n",
    "#X_train = (X_train - 128)/128\n",
    "#X_valid = (X_valid - 128)/128\n",
    "#X_test = (X_test - 128)/128"
   ]
  },
  {
   "cell_type": "code",
   "execution_count": null,
   "metadata": {},
   "outputs": [],
   "source": [
    "# Grayscale\n",
    "X_train = np.sum(X_train/3, axis = 3, keepdims=True)\n",
    "X_valid = np.sum(X_valid/3, axis = 3, keepdims=True)\n",
    "X_test = np.sum(X_test/3, axis = 3, keepdims=True)"
   ]
  },
  {
   "cell_type": "code",
   "execution_count": null,
   "metadata": {},
   "outputs": [],
   "source": [
    "# Show a random image to demonstrate how it changes through preprocessing\n",
    "index = random.randint(0, len(X_train))\n",
    "image = X_train[index].squeeze()\n",
    "print('image.shape --> ', image.shape)\n",
    "print('image.size --> ', image.size)\n",
    "print('image.dtype --> ', image.dtype)\n",
    "plt.imshow(image, cmap=\"gray\")"
   ]
  },
  {
   "cell_type": "markdown",
   "metadata": {},
   "source": [
    "----\n",
    "\n",
    "## Step 2: Design a Model Architecture (Deep Learning model)"
   ]
  },
  {
   "cell_type": "code",
   "execution_count": 4,
   "metadata": {},
   "outputs": [],
   "source": [
    "from tensorflow.contrib.layers import flatten\n",
    "\n",
    "def LeNet(x, mu, sigma, strides, strides_pool, keep_prob):\n",
    "    \n",
    "    # Layer 1: Convolutional.\n",
    "    conv1_W = tf.Variable(tf.truncated_normal(shape=(3, 3, 1, 16), mean = mu, stddev = sigma)) \n",
    "    conv1_b = tf.Variable(tf.zeros(16))\n",
    "    conv1   = tf.nn.conv2d(x, conv1_W, strides=strides, padding='VALID') + conv1_b # convolve the filter over the images\n",
    "    print(\"Shape after 1st convolutional layer: \", conv1.shape)\n",
    "\n",
    "    # Activation.\n",
    "    conv1 = tf.nn.relu(conv1)\n",
    "    \n",
    "    # Layer 2: Pooling. \n",
    "    conv1 = tf.nn.max_pool(conv1, ksize=[1, 2, 2, 1], strides=strides_pool, padding='VALID')\n",
    "    print(\"Shape after 1st pooling: \", conv1.shape)\n",
    "    \n",
    "    # Layer 3: Convolutional. \n",
    "    conv3_W = tf.Variable(tf.truncated_normal(shape=(3, 3, 16, 64), mean = mu, stddev = sigma)) \n",
    "    conv3_b = tf.Variable(tf.zeros(64))\n",
    "    conv3   = tf.nn.conv2d(conv1, conv3_W, strides=strides, padding='VALID') + conv3_b # convolve the filter over the images\n",
    "    print(\"Shape after 2nd convolutional layer: \", conv3.shape)\n",
    "\n",
    "    # Activation.\n",
    "    conv3 = tf.nn.relu(conv3)\n",
    "\n",
    "    # Layer 4: Pooling. \n",
    "    conv3 = tf.nn.max_pool(conv3, ksize=[1, 2, 2, 1], strides=strides_pool, padding='VALID')\n",
    "    print(\"Shape after 2nd pooling: \", conv3.shape)\n",
    "\n",
    "    # Layer 5: Convolutional.\n",
    "    conv5_W = tf.Variable(tf.truncated_normal(shape=(3, 3, 64, 256), mean = mu, stddev = sigma))\n",
    "    conv5_b = tf.Variable(tf.zeros(256))\n",
    "    conv5   = tf.nn.conv2d(conv3, conv5_W, strides=strides, padding='VALID') + conv5_b\n",
    "    print(\"Shape after 3rd convolutional layer: \", conv5.shape)\n",
    "    \n",
    "    # Activation.\n",
    "    conv5 = tf.nn.relu(conv5)\n",
    "\n",
    "    # Layer 6: Pooling. \n",
    "    conv5 = tf.nn.max_pool(conv5, ksize=[1, 2, 2, 1], strides=strides_pool, padding='VALID')\n",
    "    print(\"Shape after 3rd pooling: \", conv5.shape)\n",
    "\n",
    "    # Layer 7: Fully Connected (flatten into a vector).\n",
    "    fc0 = flatten(conv5)\n",
    "    print(\"Shape after flatten: \", fc0.shape)\n",
    "    \n",
    "    # Layer 8: Fully Connected. Output = 120 (= width of fully connected layer).\n",
    "    fc1_W = tf.Variable(tf.truncated_normal(shape=(1024, 120), mean = mu, stddev = sigma))\n",
    "    fc1_b = tf.Variable(tf.zeros(120))\n",
    "    fc1   = tf.matmul(fc0, fc1_W) + fc1_b\n",
    "    print(\"Shape after 1st fully connecting: \", fc1.shape)\n",
    "    \n",
    "    # Activation.\n",
    "    fc1    = tf.nn.relu(fc1)\n",
    "    \n",
    "    # Dropout.\n",
    "    fc1 = tf.nn.dropout(fc1, keep_prob)\n",
    "    print(\"Shape after dropout: \", fc1.shape)\n",
    "\n",
    "    # Output = 43 (because n_classes=43).\n",
    "    fc2_W  = tf.Variable(tf.truncated_normal(shape=(120, n_classes), mean = mu, stddev = sigma))\n",
    "    fc2_b  = tf.Variable(tf.zeros(n_classes))\n",
    "    logits = tf.matmul(fc1, fc2_W) + fc2_b\n",
    "    print(\"Shape after 2nd fully connecting: \", logits.shape)\n",
    "    \n",
    "    return logits"
   ]
  },
  {
   "cell_type": "markdown",
   "metadata": {},
   "source": [
    "## Step 3: Train and Evaluate the Deep Learning model"
   ]
  },
  {
   "cell_type": "markdown",
   "metadata": {},
   "source": [
    "### Tuning hyperparameters\n",
    "The `EPOCH` and `BATCH_SIZE` values affect the training speed and model accuracy."
   ]
  },
  {
   "cell_type": "code",
   "execution_count": 5,
   "metadata": {},
   "outputs": [],
   "source": [
    "EPOCHS = 50 # tells TensorFlow how many times to run our training data through the network\n",
    "# in general the more epochs, the better our model will train but also the longer training will take.\n",
    "\n",
    "BATCH_SIZE = 128 # tells TensorFlow how many training images to run through the network at a time\n",
    "# the larger the batch size, the faster our model will train, but our processor may have a memory limit on how large a batch\n",
    "# it can run\n",
    "\n",
    "rate = 0.0005 # tells TensorFlow how quickly to update the network's weights; 0.001 is a good default value but can be experimented with\n",
    "mu = 0 # used in tf.truncated_normal() --> see the model architecture LeNet() below\n",
    "sigma = 0.1 # dito\n",
    "\n",
    "# strides 's'. These are passed into LeNet()\n",
    "strides = [1, 1, 1, 1] # [batch, y_direction, x_direction, input_channels]\n",
    "strides_pool = [1, 2, 2, 1] # dito\n",
    "\n",
    "# Dropout technique\n",
    "keep_prob = 0.7"
   ]
  },
  {
   "cell_type": "markdown",
   "metadata": {},
   "source": [
    "### Features and Labels\n",
    "\n",
    "`x` is a placeholder for a batch of input images.\n",
    "`y` is a placeholder for a batch of output labels (groundtruth data)."
   ]
  },
  {
   "cell_type": "code",
   "execution_count": 6,
   "metadata": {},
   "outputs": [],
   "source": [
    "x = tf.placeholder(tf.float32, (None, 32, 32, 1)) # initialize batch size to \"None\" which allows the placeholder to later accept a batch of any size\n",
    "y = tf.placeholder(tf.int32, (None)) # not yet one-hot encoded\n",
    "\n",
    "one_hot_y = tf.one_hot(y, 43) # 1-hot encode the labels"
   ]
  },
  {
   "cell_type": "markdown",
   "metadata": {},
   "source": [
    "### Training pipeline\n",
    "`training_operation`"
   ]
  },
  {
   "cell_type": "code",
   "execution_count": 7,
   "metadata": {},
   "outputs": [
    {
     "name": "stdout",
     "output_type": "stream",
     "text": [
      "Shape after 1st convolutional layer:  (?, 30, 30, 16)\n",
      "Shape after 1st pooling:  (?, 15, 15, 16)\n",
      "Shape after 2nd convolutional layer:  (?, 13, 13, 64)\n",
      "Shape after 2nd pooling:  (?, 6, 6, 64)\n",
      "Shape after 3rd convolutional layer:  (?, 4, 4, 256)\n",
      "Shape after 3rd pooling:  (?, 2, 2, 256)\n",
      "Shape after flatten:  (?, 1024)\n",
      "Shape after 1st fully connecting:  (?, 120)\n",
      "Shape after dropout:  (?, 120)\n",
      "Shape after 2nd fully connecting:  (?, 43)\n"
     ]
    }
   ],
   "source": [
    "# pass the input data x (batch of images) to the LeNet function (deep neural network) to calculate logits\n",
    "logits = LeNet(x, mu, sigma, strides, strides_pool, keep_prob)\n",
    "\n",
    "# cross entropy is a measure of how different the logits are from the ground truth training labels\n",
    "cross_entropy = tf.nn.softmax_cross_entropy_with_logits(labels=one_hot_y, logits=logits)\n",
    "loss_operation = tf.reduce_mean(cross_entropy) # averages the CE from all of the training images\n",
    "optimizer = tf.train.AdamOptimizer(learning_rate = rate) # uses Adam algorithm to minimize the loss function similarly to SGD.\n",
    "                                                         # little bit more sophisticated than SGD\n",
    "training_operation = optimizer.minimize(loss_operation) # run the minimize function on the optimzier which uses backprop to\n",
    "# upgrade the network and minimize our training loss"
   ]
  },
  {
   "cell_type": "markdown",
   "metadata": {},
   "source": [
    "### Evaluation pipeline\n",
    "`accuracy_operation`\n",
    "\n",
    "Evaluate the accuracy of the model."
   ]
  },
  {
   "cell_type": "code",
   "execution_count": 8,
   "metadata": {},
   "outputs": [],
   "source": [
    "# Compare the logit prediction to the 1-hot encoded ground truth label\n",
    "correct_prediction = tf.equal(tf.argmax(logits, 1), tf.argmax(one_hot_y, 1))\n",
    "\n",
    "# Calculate the model's overall accuracy by averaging the individual prediction accuracies\n",
    "accuracy_operation = tf.reduce_mean(tf.cast(correct_prediction, tf.float32))\n",
    "\n",
    "saver = tf.train.Saver() # create an instance/object of tf.train.Saver() class\n",
    "\n",
    "def evaluate(X_data, y_data):\n",
    "    num_examples = len(X_data)\n",
    "    total_accuracy = 0\n",
    "    sess = tf.get_default_session()\n",
    "    for offset in range(0, num_examples, BATCH_SIZE):\n",
    "        batch_x, batch_y = X_data[offset:offset+BATCH_SIZE], y_data[offset:offset+BATCH_SIZE] # batch the dataset\n",
    "        accuracy = sess.run(accuracy_operation, feed_dict={x: batch_x, y: batch_y}) # run the batched dataset through the evaluation pipeline\n",
    "        total_accuracy += (accuracy * len(batch_x))\n",
    "    return total_accuracy / num_examples"
   ]
  },
  {
   "cell_type": "markdown",
   "metadata": {},
   "source": [
    "### Train and Validate the model\n",
    "\n",
    "Run the training data through the training pipeline to train the model -->`training_operation`\n",
    "\n",
    "Before each epoch, training set will be shuffled to ensure that training is not biased by the order of the images.\n",
    "\n",
    "After each epoch, the validation accuracy and accuracy on the training set are measured. A low accuracy on the training and validation sets implies underfitting. A high accuracy on the training set but low accuracy on the validation set implies overfitting.\n",
    "\n",
    "The model will be saved after training."
   ]
  },
  {
   "cell_type": "code",
   "execution_count": null,
   "metadata": {},
   "outputs": [],
   "source": [
    "with tf.Session() as sess:\n",
    "    sess.run(tf.global_variables_initializer())\n",
    "    num_examples = len(X_train)\n",
    "    \n",
    "    print(\"Training...\")\n",
    "    print()\n",
    "    for i in range(EPOCHS):\n",
    "        X_train, y_train = shuffle(X_train, y_train)\n",
    "        for offset in range(0, num_examples, BATCH_SIZE): # range(start, stop, step)\n",
    "            end = offset + BATCH_SIZE\n",
    "            batch_x = X_train[offset:end] # break training data into batches\n",
    "            batch_y = y_train[offset:end]\n",
    "            sess.run(training_operation, feed_dict={x: batch_x, y: batch_y}) # train the model on each batch\n",
    "            \n",
    "        # at the end of each epoch, we evaluate the model on our validation data\n",
    "        validation_accuracy = evaluate(X_valid, y_valid)\n",
    "        \n",
    "        # also evaluate the model on training data to see if the model is over- or underfitted\n",
    "        training_accuracy = evaluate(X_train, y_train)\n",
    "        \n",
    "        # also evaluate the model on test data (different from validation data)\n",
    "        test_accuracy = evaluate(X_test, y_test)\n",
    "        \n",
    "        print(\"EPOCH {} ...\".format(i+1))\n",
    "        print(\"Validation Accuracy = {:.3f}\".format(validation_accuracy))\n",
    "        print(\"Accuracy on the training set = {:.3f}\".format(training_accuracy))\n",
    "        print(\"Accuracy on the test set = {:.3f}\".format(test_accuracy))\n",
    "        \n",
    "        print()\n",
    "        \n",
    "    try:\n",
    "        saver\n",
    "    except NameError:\n",
    "        saver = tf.train.Saver()\n",
    "    \n",
    "    saver.save(sess, 'lenet') # save the model to be able to load it up later and modify it or evaluate it on test dataset\n",
    "    print(\"Model saved\")"
   ]
  },
  {
   "cell_type": "markdown",
   "metadata": {},
   "source": [
    "### Open/Restore the pre-trained model"
   ]
  },
  {
   "cell_type": "code",
   "execution_count": 10,
   "metadata": {},
   "outputs": [
    {
     "name": "stdout",
     "output_type": "stream",
     "text": [
      "INFO:tensorflow:Restoring parameters from ./lenet\n",
      "Model restored\n"
     ]
    }
   ],
   "source": [
    "# from: https://cv-tricks.com/tensorflow-tutorial/save-restore-tensorflow-models-quick-complete-tutorial/\n",
    "\n",
    "with tf.Session() as sess:\n",
    "    saver = tf.train.import_meta_graph('lenet.meta')\n",
    "    saver.restore(sess, tf.train.latest_checkpoint('./'))\n",
    "    print(\"Model restored\")"
   ]
  },
  {
   "cell_type": "markdown",
   "metadata": {},
   "source": [
    "---\n",
    "\n",
    "## Step 3: Use the model to make predictions on new images found on the web\n",
    "\n",
    "To give more insight into how the model is performing, five pictures of German traffic signs from the web are taken and applied to the model to predict the traffic sign type."
   ]
  },
  {
   "cell_type": "markdown",
   "metadata": {},
   "source": [
    "### Load and Output the Images"
   ]
  },
  {
   "cell_type": "code",
   "execution_count": 11,
   "metadata": {},
   "outputs": [],
   "source": [
    "import os\n",
    "import glob\n",
    "\n",
    "# Load images from .png files to `X_custom` NumPy array\n",
    "X_custom = np.empty([0, 32, 32, 3], dtype = np.float64) # numpy.empty(shape, dtype); shape > int or tuple of int; \n",
    "                                                        # 0 gibt damit die Länge an"
   ]
  },
  {
   "cell_type": "code",
   "execution_count": 12,
   "metadata": {},
   "outputs": [],
   "source": [
    "# loading the images into a file list (no numpy array! only a list)\n",
    "additional_file_list = [f for f in glob.glob(\"examples/web/\"+'*.png')]"
   ]
  },
  {
   "cell_type": "code",
   "execution_count": 13,
   "metadata": {},
   "outputs": [
    {
     "name": "stdout",
     "output_type": "stream",
     "text": [
      "read in image has shape:  (32, 32, 4)\n",
      "read in image has shape:  (32, 32, 4)\n",
      "read in image has shape:  (32, 32, 4)\n",
      "read in image has shape:  (32, 32, 4)\n",
      "read in image has shape:  (32, 32, 4)\n",
      "len(X_custom):  5\n",
      "X_custom.shape:  (5, 32, 32, 3)\n",
      "X_custom.dtype:  float64\n"
     ]
    }
   ],
   "source": [
    "# Bilder einlesesn und X_custom aufbauen\n",
    "\n",
    "for i in range(len(additional_file_list)):\n",
    "    image = io.imread(os.getcwd() + '/examples/web/' + \"example_{0:0>5}\".format(i + 1) + '.png')\n",
    "    image_resized = cv2.resize(image, (32, 32))\n",
    "    print(\"read in image has shape: \", image_resized.shape)\n",
    "    X_custom = np.append(X_custom, [image_resized[:, :, :3]], axis = 0) # X_custom wird kopiert und [image[:, :, :3]] drangehängt\n",
    "        \n",
    "print(\"len(X_custom): \", len(X_custom))\n",
    "print(\"X_custom.shape: \", X_custom.shape)\n",
    "print(\"X_custom.dtype: \", X_custom.dtype)"
   ]
  },
  {
   "cell_type": "code",
   "execution_count": 15,
   "metadata": {},
   "outputs": [],
   "source": [
    "# Provide labels for the images found on the web:\n",
    "\n",
    "\"\"\"\n",
    "# eigene Bilder\n",
    "y_custom = np.array([\n",
    "    25, # \"example_00001\"\n",
    "    23, # \"example_00002\"\n",
    "    16, # \"example_00003\"\n",
    "    17, # \"example_00004\"\n",
    "    39, # \"example_00005\"\n",
    "])\n",
    "\"\"\"\n",
    "\n",
    "\"\"\"\n",
    "# DiegeID\n",
    "y_custom = np.array([\n",
    "    14, # \"example_00001\"\n",
    "    13, # \"example_00002\"\n",
    "    12, # \"example_00003\"\n",
    "    7, # \"example_00004\"\n",
    "    17, # \"example_00005\"\n",
    "])\n",
    "\"\"\"\n",
    "\n",
    "\"\"\"\n",
    "# wikipedia\n",
    "y_custom = np.array([\n",
    "    13, # \"example_00001\"\n",
    "    3, # \"example_00002\"\n",
    "    12, # \"example_00003\"\n",
    "    17, # \"example_00004\"\n",
    "    35, # \"example_00005\"\n",
    "])\n",
    "\"\"\"\n",
    "\n",
    "# train images\n",
    "y_custom = np.array([\n",
    "    14, # \"example_00001\"\n",
    "    13, # \"example_00002\"\n",
    "    12, # \"example_00003\"\n",
    "    7, # \"example_00004\"\n",
    "    17, # \"example_00005\"\n",
    "])"
   ]
  },
  {
   "cell_type": "code",
   "execution_count": 16,
   "metadata": {},
   "outputs": [
    {
     "data": {
      "image/png": "[encoded data removed]",
      "text/plain": [
       "<matplotlib.figure.Figure at 0x7f57275c93c8>"
      ]
     },
     "metadata": {},
     "output_type": "display_data"
    }
   ],
   "source": [
    "fig = plt.figure()\n",
    "fig.subplots_adjust(left = 0, right = 1, bottom = 0, top = 1, hspace = 0.05, wspace = 0.05)\n",
    "for i in range(len(X_custom)):\n",
    "    axis = fig.add_subplot(1, len(additional_file_list), i + 1, xticks=[], yticks=[])\n",
    "    web_image = io.imread(os.getcwd() + '/examples/web/' + \"example_{0:0>5}\".format(i + 1) + '.png')\n",
    "    axis.imshow(web_image)"
   ]
  },
  {
   "cell_type": "code",
   "execution_count": null,
   "metadata": {},
   "outputs": [],
   "source": [
    "# Alternativ: Plotten mit fester Anzahl von Bildern, z.B. 5\n",
    "\n",
    "'''\n",
    "f, (ax1, ax2, ax3,ax4,ax5) = plt.subplots(1, 5, figsize=(20, 32))\n",
    "ax1.imshow(additional_imag_list[0])\n",
    "ax1.axis('ON')\n",
    "ax2.imshow(additional_imag_list[1])\n",
    "ax2.axis('ON')\n",
    "ax3.imshow(additional_imag_list[2])\n",
    "ax3.axis('ON')\n",
    "ax4.imshow(additional_imag_list[3])\n",
    "ax4.axis('ON')\n",
    "ax5.imshow(additional_imag_list[4])\n",
    "ax5.axis('ON')\n",
    "#plt.savefig('./examples/name_of_file.jpg', dpi=300)\n",
    "plt.show()\n",
    "'''"
   ]
  },
  {
   "cell_type": "markdown",
   "metadata": {},
   "source": [
    "### Predict the Sign Type for Each Image\n",
    "Output the prediction for each image using the model"
   ]
  },
  {
   "cell_type": "code",
   "execution_count": 17,
   "metadata": {},
   "outputs": [],
   "source": [
    "# Preprocessing the images with the same techniques used earlier (normalize and grayscale)\n",
    "\n",
    "# Normalize\n",
    "for i in range(len(X_custom)):\n",
    "    X_custom[i] = cv2.normalize(X_custom[i],None,0,128,cv2.NORM_MINMAX)"
   ]
  },
  {
   "cell_type": "code",
   "execution_count": 18,
   "metadata": {},
   "outputs": [
    {
     "name": "stdout",
     "output_type": "stream",
     "text": [
      "X_custom[0].shape:  (32, 32, 1)\n",
      "X_custom.shape:  (5, 32, 32, 1)\n"
     ]
    }
   ],
   "source": [
    "# Grayscale\n",
    "X_custom = np.sum(X_custom/3, axis = 3, keepdims=True)\n",
    "print(\"X_custom[0].shape: \", X_custom[0].shape)\n",
    "print(\"X_custom.shape: \", X_custom.shape)"
   ]
  },
  {
   "cell_type": "code",
   "execution_count": null,
   "metadata": {},
   "outputs": [],
   "source": [
    "## Try this to make a prediction for a single image\n",
    "\n",
    "\"\"\"\n",
    "x_1 = tf.cast(X_custom[0], tf.float32) # to resolve \"TypeError: Value passed to parameter 'input' has DataType float64 not in list of allowed values: float16, float32\"\n",
    "print(\"x_1: \",x_1)\n",
    "x_1_expanded = tf.expand_dims(x_1, 0)\n",
    "y_1 = y_custom[0]\n",
    "logits = LeNet(x_1_expanded, mu, sigma, strides, strides_pool, keep_prob)\n",
    "\"\"\""
   ]
  },
  {
   "cell_type": "markdown",
   "metadata": {},
   "source": [
    "### Analyze Performance\n",
    "Calculate the accuracy for these 5 new images. \n",
    "For example, if the model predicted 1 out of 5 signs correctly, it's 20% accurate on these new images."
   ]
  },
  {
   "cell_type": "code",
   "execution_count": 22,
   "metadata": {},
   "outputs": [
    {
     "name": "stdout",
     "output_type": "stream",
     "text": [
      "Accuracy on images found on the web = 0.200\n"
     ]
    }
   ],
   "source": [
    "## short version with calling evaluate(X_custom, y_custom) directly. Only can run when long version (next cell) works!\n",
    "\n",
    "with tf.Session() as sess:\n",
    "    sess.run(tf.global_variables_initializer())\n",
    "    num_examples = len(X_custom)\n",
    "    web_accuracy = evaluate(X_custom, y_custom)\n",
    "    print(\"Accuracy on images found on the web = {:.3f}\".format(web_accuracy))"
   ]
  },
  {
   "cell_type": "code",
   "execution_count": null,
   "metadata": {},
   "outputs": [],
   "source": [
    "## long version (step by step) with batches\n",
    "\n",
    "\"\"\"\n",
    "with tf.Session() as sess:\n",
    "    sess.run(tf.global_variables_initializer())\n",
    "    num_examples = len(X_custom) # 5\n",
    "    total_accuracy = 0\n",
    "    BATCH_SIZE = 1\n",
    "    for offset in range(0, num_examples, BATCH_SIZE):\n",
    "        batch_x = X_custom[offset:offset+BATCH_SIZE]\n",
    "        batch_y = y_custom[offset:offset+BATCH_SIZE]\n",
    "        accuracy = sess.run(accuracy_operation, feed_dict={x: batch_x, y: batch_y}) # run the batched dataset through the evaluation pipeline\n",
    "        total_accuracy += (accuracy * len(batch_x))\n",
    "        \n",
    "print(total_accuracy / num_examples)\n",
    "\"\"\""
   ]
  },
  {
   "cell_type": "code",
   "execution_count": null,
   "metadata": {},
   "outputs": [],
   "source": [
    "## long version (step by step) without batches\n",
    "\n",
    "\"\"\"\n",
    "with tf.Session() as sess:\n",
    "    sess.run(tf.global_variables_initializer())\n",
    "    num_examples = len(X_custom) # 5\n",
    "    total_accuracy = 0\n",
    "    for i in range(num_examples):\n",
    "        x_i = X_custom[i:i+1]\n",
    "        y_i = y_custom[i:i+1]\n",
    "        accuracy = sess.run(accuracy_operation, feed_dict={x: x_i, y: y_i})\n",
    "        total_accuracy += (accuracy * len(x_i))\n",
    "        \n",
    "print(total_accuracy / num_examples)\n",
    "\"\"\""
   ]
  },
  {
   "cell_type": "markdown",
   "metadata": {},
   "source": [
    "### Output Top 5 Softmax Probabilities For Each Image Found on the Web"
   ]
  },
  {
   "cell_type": "markdown",
   "metadata": {},
   "source": [
    "For each of the new images, print out the model's softmax probabilities to show the **certainty** of the model's predictions (limit the output to the top 5 probabilities for each image). [`tf.nn.top_k`](https://www.tensorflow.org/versions/r0.12/api_docs/python/nn.html#top_k) could prove helpful here. \n",
    "\n",
    "The example below demonstrates how tf.nn.top_k can be used to find the top k predictions for each image.\n",
    "\n",
    "`tf.nn.top_k` will return the values and indices (class ids) of the top k predictions. So if k=3, for each sign, it'll return the 3 largest probabilities (out of a possible 43) and the correspoding class ids.\n",
    "\n",
    "Take this numpy array as an example. The values in the array represent predictions. The array contains softmax probabilities for five candidate images with six possible classes. `tf.nn.top_k` is used to choose the three classes with the highest probability:\n",
    "\n",
    "```\n",
    "# (5, 6) array\n",
    "a = np.array([[ 0.24879643,  0.07032244,  0.12641572,  0.34763842,  0.07893497,\n",
    "         0.12789202],\n",
    "       [ 0.28086119,  0.27569815,  0.08594638,  0.0178669 ,  0.18063401,\n",
    "         0.15899337],\n",
    "       [ 0.26076848,  0.23664738,  0.08020603,  0.07001922,  0.1134371 ,\n",
    "         0.23892179],\n",
    "       [ 0.11943333,  0.29198961,  0.02605103,  0.26234032,  0.1351348 ,\n",
    "         0.16505091],\n",
    "       [ 0.09561176,  0.34396535,  0.0643941 ,  0.16240774,  0.24206137,\n",
    "         0.09155967]])\n",
    "```\n",
    "\n",
    "Running it through `sess.run(tf.nn.top_k(tf.constant(a), k=3))` produces:\n",
    "\n",
    "```\n",
    "TopKV2(values=array([[ 0.34763842,  0.24879643,  0.12789202],\n",
    "       [ 0.28086119,  0.27569815,  0.18063401],\n",
    "       [ 0.26076848,  0.23892179,  0.23664738],\n",
    "       [ 0.29198961,  0.26234032,  0.16505091],\n",
    "       [ 0.34396535,  0.24206137,  0.16240774]]), indices=array([[3, 0, 5],\n",
    "       [0, 1, 4],\n",
    "       [0, 5, 1],\n",
    "       [1, 3, 5],\n",
    "       [1, 4, 3]], dtype=int32))\n",
    "```\n",
    "\n",
    "Looking just at the first row we get `[ 0.34763842,  0.24879643,  0.12789202]`, you can confirm these are the 3 largest probabilities in `a`. You'll also notice `[3, 0, 5]` are the corresponding indices."
   ]
  },
  {
   "cell_type": "code",
   "execution_count": 23,
   "metadata": {},
   "outputs": [
    {
     "name": "stdout",
     "output_type": "stream",
     "text": [
      "TopKV2(values=array([[  9.99983907e-01,   9.61791920e-06,   6.18651757e-06,\n",
      "          2.10961829e-07,   1.41493339e-09],\n",
      "       [  1.00000000e+00,   4.30695435e-09,   4.03354572e-11,\n",
      "          2.94106905e-12,   1.71736009e-12],\n",
      "       [  9.99996185e-01,   3.33412754e-06,   3.27883072e-07,\n",
      "          1.35806530e-07,   4.67445904e-09],\n",
      "       [  9.87150908e-01,   1.28438100e-02,   5.30609350e-06,\n",
      "          2.01369788e-09,   1.02841780e-09],\n",
      "       [  4.68094319e-01,   4.03428644e-01,   9.08890367e-02,\n",
      "          3.75672467e-02,   1.99605383e-05]], dtype=float32), indices=array([[12, 22, 42, 21, 11],\n",
      "       [36, 17, 40, 12, 22],\n",
      "       [ 0, 12, 36, 22, 17],\n",
      "       [ 0, 36, 22, 26, 17],\n",
      "       [17, 11, 22, 36, 12]], dtype=int32))\n"
     ]
    }
   ],
   "source": [
    "### Print out the top five softmax probabilities for the predictions on the German traffic sign images found on the web. \n",
    "\n",
    "top_5_probabilities = tf.nn.top_k(tf.nn.softmax(logits), k=5) # tf.nn.top_k(input, k=?)\n",
    "\n",
    "keep_prob = 1.0\n",
    "\n",
    "with tf.Session() as sess:\n",
    "    sess.run(tf.global_variables_initializer())\n",
    "    top_5_probabilities_output = sess.run(top_5_probabilities, feed_dict = {x:X_custom, y:y_custom})\n",
    "    print(top_5_probabilities_output)"
   ]
  },
  {
   "cell_type": "markdown",
   "metadata": {},
   "source": [
    "---\n",
    "\n",
    "## Step 4 (Optional): Visualize the Neural Network's State with Test Images\n",
    "\n",
    " This Section is not required to complete but acts as an additional excersise for understaning the output of a neural network's weights. While neural networks can be a great learning device they are often referred to as a black box. We can understand what the weights of a neural network look like better by plotting their feature maps. After successfully training your neural network you can see what it's feature maps look like by plotting the output of the network's weight layers in response to a test stimuli image. From these plotted feature maps, it's possible to see what characteristics of an image the network finds interesting. For a sign, maybe the inner network feature maps react with high activation to the sign's boundary outline or to the contrast in the sign's painted symbol.\n",
    "\n",
    " Provided for you below is the function code that allows you to get the visualization output of any tensorflow weight layer you want. The inputs to the function should be a stimuli image, one used during training or a new one you provided, and then the tensorflow variable name that represents the layer's state during the training process, for instance if you wanted to see what the [LeNet lab's](https://classroom.udacity.com/nanodegrees/nd013/parts/fbf77062-5703-404e-b60c-95b78b2f3f9e/modules/6df7ae49-c61c-4bb2-a23e-6527e69209ec/lessons/601ae704-1035-4287-8b11-e2c2716217ad/concepts/d4aca031-508f-4e0b-b493-e7b706120f81) feature maps looked like for it's second convolutional layer you could enter conv2 as the tf_activation variable.\n",
    "\n",
    "For an example of what feature map outputs look like, check out NVIDIA's results in their paper [End-to-End Deep Learning for Self-Driving Cars](https://devblogs.nvidia.com/parallelforall/deep-learning-self-driving-cars/) in the section Visualization of internal CNN State. NVIDIA was able to show that their network's inner weights had high activations to road boundary lines by comparing feature maps from an image with a clear path to one without. Try experimenting with a similar test to show that your trained network's weights are looking for interesting features, whether it's looking at differences in feature maps from images with or without a sign, or even what feature maps look like in a trained network vs a completely untrained one on the same sign image.\n",
    "\n",
    "<figure>\n",
    " <img src=\"visualize_cnn.png\" width=\"380\" alt=\"Combined Image\" />\n",
    " <figcaption>\n",
    " <p></p> \n",
    " <p style=\"text-align: center;\"> Your output should look something like this (above)</p> \n",
    " </figcaption>\n",
    "</figure>\n",
    " <p></p> \n"
   ]
  },
  {
   "cell_type": "code",
   "execution_count": null,
   "metadata": {},
   "outputs": [],
   "source": [
    "### Visualize your network's feature maps here.\n",
    "### Feel free to use as many code cells as needed.\n",
    "\n",
    "# image_input: the test image being fed into the network to produce the feature maps\n",
    "# tf_activation: should be a tf variable name used during your training procedure that represents the calculated state of a specific weight layer\n",
    "# activation_min/max: can be used to view the activation contrast in more detail, by default matplot sets min and max to the actual min and max values of the output\n",
    "# plt_num: used to plot out multiple different weight feature map sets on the same block, just extend the plt number for each new feature map entry\n",
    "\n",
    "def outputFeatureMap(image_input, tf_activation, activation_min=-1, activation_max=-1 ,plt_num=1):\n",
    "    # Here make sure to preprocess your image_input in a way your network expects\n",
    "    # with size, normalization, ect if needed\n",
    "    # image_input =\n",
    "    # Note: x should be the same name as your network's tensorflow data placeholder variable\n",
    "    # If you get an error tf_activation is not defined it may be having trouble accessing the variable from inside a function\n",
    "    activation = tf_activation.eval(session=sess,feed_dict={x : image_input})\n",
    "    featuremaps = activation.shape[3]\n",
    "    plt.figure(plt_num, figsize=(15,15))\n",
    "    for featuremap in range(featuremaps):\n",
    "        plt.subplot(6,8, featuremap+1) # sets the number of feature maps to show on each row and column\n",
    "        plt.title('FeatureMap ' + str(featuremap)) # displays the feature map number\n",
    "        if activation_min != -1 & activation_max != -1:\n",
    "            plt.imshow(activation[0,:,:, featuremap], interpolation=\"nearest\", vmin =activation_min, vmax=activation_max, cmap=\"gray\")\n",
    "        elif activation_max != -1:\n",
    "            plt.imshow(activation[0,:,:, featuremap], interpolation=\"nearest\", vmax=activation_max, cmap=\"gray\")\n",
    "        elif activation_min !=-1:\n",
    "            plt.imshow(activation[0,:,:, featuremap], interpolation=\"nearest\", vmin=activation_min, cmap=\"gray\")\n",
    "        else:\n",
    "            plt.imshow(activation[0,:,:, featuremap], interpolation=\"nearest\", cmap=\"gray\")"
   ]
  }
 ],
 "metadata": {
  "anaconda-cloud": {},
  "kernelspec": {
   "display_name": "Python 3",
   "language": "python",
   "name": "python3"
  },
  "language_info": {
   "codemirror_mode": {
    "name": "ipython",
    "version": 3
   },
   "file_extension": ".py",
   "mimetype": "text/x-python",
   "name": "python",
   "nbconvert_exporter": "python",
   "pygments_lexer": "ipython3",
   "version": "3.6.3"
  }
 },
 "nbformat": 4,
 "nbformat_minor": 1
}
